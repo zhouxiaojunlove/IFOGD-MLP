{
 "cells": [
  {
   "cell_type": "code",
   "execution_count": 17,
   "id": "1c3c88f3",
   "metadata": {},
   "outputs": [],
   "source": [
    "import yfinance as yf\n",
    "\n",
    "s = \"^N225\"\n",
    "data = yf.Ticker(s)  #GSPC，DJI，IXIC，FTSE，GDAXI，N225\n",
    "\n",
    "historical_data = data.history(start=\"2000-01-01\", interval=\"1d\")\n",
    "df = historical_data.iloc[:,0:5]\n",
    "df.to_csv(r'data/'+s.replace('^','')+'.csv')   #S&P 500，Dow Jones Industrial Average，NASDAQ Composite，FTSE 100，DAX，Nikkei 225"
   ]
  },
  {
   "cell_type": "code",
   "execution_count": null,
   "id": "f4976303",
   "metadata": {},
   "outputs": [],
   "source": []
  }
 ],
 "metadata": {
  "kernelspec": {
   "display_name": "Python 3 (ipykernel)",
   "language": "python",
   "name": "python3"
  },
  "language_info": {
   "codemirror_mode": {
    "name": "ipython",
    "version": 3
   },
   "file_extension": ".py",
   "mimetype": "text/x-python",
   "name": "python",
   "nbconvert_exporter": "python",
   "pygments_lexer": "ipython3",
   "version": "3.11.3"
  }
 },
 "nbformat": 4,
 "nbformat_minor": 5
}
