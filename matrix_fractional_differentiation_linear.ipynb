{
 "cells": [
  {
   "cell_type": "code",
   "execution_count": 24,
   "id": "f41b70a1",
   "metadata": {},
   "outputs": [],
   "source": [
    "import math as m\n",
    "import torch as t\n",
    "import matplotlib.pyplot as plt\n",
    "import torch.optim as optim\n",
    "import torch.nn as nn\n",
    "from d2l import torch as d2l\n",
    "device = t.device(\"cuda\")\n",
    "criterion = nn.MSELoss()\n",
    "import time\n",
    "from torch.nn import functional as F"
   ]
  },
  {
   "cell_type": "code",
   "execution_count": 43,
   "id": "40c1b8e6",
   "metadata": {},
   "outputs": [],
   "source": [
    "x = t.randn(2,100,requires_grad=True)   \n",
    "w = t.randn(100,50,requires_grad=True)       \n",
    "b = t.randn(1,50,requires_grad=True)\n",
    "#y = t.randn(1,50)\n",
    "a=1.5"
   ]
  },
  {
   "cell_type": "code",
   "execution_count": 44,
   "id": "c4551d31",
   "metadata": {},
   "outputs": [],
   "source": [
    "def matrix_fractional_differentiation_linear(x,w,b,a):\n",
    "    \n",
    "    x_rows, x_cols = x.size()\n",
    "    w_rows, w_cols = w.size()\n",
    "    x = (t.sum(x,dim=0)/x_rows).view(1,-1)\n",
    "   \n",
    "    y = F.linear(x,w.T,b)\n",
    "    f1 = t.mul(x,w.T).T\n",
    "    c_partial = y - f1\n",
    "    \n",
    "    #x\n",
    "    xx = t.abs(x)\n",
    "    x_partial = t.mul(c_partial.T,xx**(-a)/gamma(1-a)).T\n",
    "    x_main = t.mul(w.T,xx**(1-a)/gamma(2-a)).T\n",
    "    \n",
    "    #w\n",
    "    ww = t.abs(w)\n",
    "    w_partial = t.mul(c_partial,ww**(-a)/gamma(1-a))\n",
    "    w_main = t.mul(x,ww.T**(1-a)/gamma(2-a)).T \n",
    "    w_matrix_fractional_differentiation = (t.sum(w_main+w_partial,dim=1)/w_cols).view(1,-1)\n",
    "    w_matrix_fractional_differentiation = t.repeat_interleave(w_matrix_fractional_differentiation, repeats=x_rows, dim=0) \n",
    "    \n",
    "    #b\n",
    "    bb = t.abs(b)\n",
    "    b_c_partial = y - b\n",
    "    b_partial = t.mul(b_c_partial,bb**(-a)/gamma(1-a))\n",
    "    b_main = bb**(1-a)/gamma(2-a)\n",
    "    \n",
    "    return x_main+x_partial, w_matrix_fractional_differentiation, b_main+b_partial\n",
    "\n",
    "def gamma(a):\n",
    "    \n",
    "    if a <= 0 and a %1 == 0:\n",
    "        return float('inf')\n",
    "    \n",
    "    return m.gamma(a)"
   ]
  },
  {
   "cell_type": "code",
   "execution_count": 45,
   "id": "4a4c4934",
   "metadata": {},
   "outputs": [
    {
     "name": "stdout",
     "output_type": "stream",
     "text": [
      "0.0009987354278564453\n"
     ]
    }
   ],
   "source": [
    "start = time.time()\n",
    "s1,s2,s3 = matrix_fractional_differentiation_linear(x,w,b,a)\n",
    "end = time.time()\n",
    "print(end - start)"
   ]
  },
  {
   "cell_type": "code",
   "execution_count": 46,
   "id": "f5b961cc",
   "metadata": {},
   "outputs": [
    {
     "data": {
      "text/plain": [
       "(torch.Size([100, 50]), torch.Size([2, 100]), torch.Size([1, 50]))"
      ]
     },
     "execution_count": 46,
     "metadata": {},
     "output_type": "execute_result"
    }
   ],
   "source": [
    "s1.shape,s2.shape,s3.shape"
   ]
  },
  {
   "cell_type": "code",
   "execution_count": 89,
   "id": "807b2d99",
   "metadata": {},
   "outputs": [
    {
     "name": "stdout",
     "output_type": "stream",
     "text": [
      "3.108616352081299\n"
     ]
    }
   ],
   "source": [
    "start = time.time()\n",
    "s1,s2,s3 = matrix_fractional_differentiation_linear1(x,w,b,a)\n",
    "end = time.time()\n",
    "print(end - start)"
   ]
  },
  {
   "cell_type": "code",
   "execution_count": 79,
   "id": "130f31b1",
   "metadata": {},
   "outputs": [],
   "source": [
    "def gamma(a):\n",
    "    \n",
    "    if a <= 0 and a %1 == 0:\n",
    "        return float('inf')\n",
    "    \n",
    "    return m.gamma(a)\n",
    "\n",
    "#Explicit computation\n",
    "def matrix_fractional_differentiation_linear1(x,w,b,a):    \n",
    "    \n",
    "    #x, w, b = x.to(device), w.to(device), b.to(device)\n",
    "    #x_rows, x_cols = x.size()\n",
    "    w_rows, w_cols = w.size()\n",
    "    #b_rows, b_cols = w.size()\n",
    "    x_new = t.zeros_like(x)\n",
    "    w_new = t.zeros_like(w)\n",
    "    w_new_x = t.zeros_like(w)\n",
    "    b_new = t.zeros_like(b)\n",
    "    y = t.mm(x,w) + b   #x_rows*w_cols\n",
    "    \n",
    "    #x\n",
    "    xx = t.abs(x)\n",
    "    for i in range(w_cols):   #m\n",
    "        for j in range(w_rows):   #n\n",
    "            c = y[0,i] - x[0,j]*w[j,i]\n",
    "            w_new[j,i] = w[j,i]*xx[0,j]**(1-a)/gamma(2-a) + c*xx[0,j]**(-a)/gamma(1-a)\n",
    "    x_matrix_fractional_differentiation = w_new\n",
    "    \n",
    "    # w\n",
    "    ww = t.abs(w)\n",
    "    for i in range(w_cols):   #m\n",
    "        for j in range(w_rows):   #n\n",
    "            c = y[0,i] - x[0,j]*w[j,i]\n",
    "            w_new_x[j,i] = x[0,j]*ww[j,i]**(1-a)/gamma(2-a) + c*ww[j,i]**(-a)/gamma(1-a)\n",
    "    for i in range(w_rows):  #n\n",
    "        for j in range(w_cols):   #m\n",
    "            x_new[0,i] = x_new[0,i] + w_new_x[i,j]\n",
    "        x_new[0,i] = x_new[0,i]/w_cols\n",
    "    w_matrix_fractional_differentiation = x_new\n",
    "    \n",
    "   #b\n",
    "    bb = t.abs(b)\n",
    "    for i in range(w_cols):   #m\n",
    "        c = y[0,i] - b[0,i]\n",
    "        b_new[0,i] = bb[0,i]**(1-a)/gamma(2-a) + c*bb[0,i]**(-a)/gamma(1-a)\n",
    "        #This is a piece of code designed to accommodate the initial 'b' coming from nn.Linear.\n",
    "        #c = y[0,i] - b[i]   \n",
    "        #b_new[i] = bb[0,i]**(1-a)/gamma(2-a) + c*bb[0,i]**(-a)/gamma(1-a)\n",
    "    b_matrix_fractional_differentiation = b_new    \n",
    "    return x_matrix_fractional_differentiation, w_matrix_fractional_differentiation, b_matrix_fractional_differentiation"
   ]
  },
  {
   "cell_type": "code",
   "execution_count": null,
   "id": "2f4f8bc3",
   "metadata": {},
   "outputs": [],
   "source": []
  }
 ],
 "metadata": {
  "kernelspec": {
   "display_name": "Python 3 (ipykernel)",
   "language": "python",
   "name": "python3"
  },
  "language_info": {
   "codemirror_mode": {
    "name": "ipython",
    "version": 3
   },
   "file_extension": ".py",
   "mimetype": "text/x-python",
   "name": "python",
   "nbconvert_exporter": "python",
   "pygments_lexer": "ipython3",
   "version": "3.11.3"
  }
 },
 "nbformat": 4,
 "nbformat_minor": 5
}
